{
 "cells": [
  {
   "cell_type": "code",
   "execution_count": 1,
   "metadata": {},
   "outputs": [],
   "source": [
    "from gazpacho import get, Soup"
   ]
  },
  {
   "cell_type": "code",
   "execution_count": 2,
   "metadata": {},
   "outputs": [],
   "source": [
    "url = 'https://www.worldometers.info/coronavirus/'\n",
    "html = get(url)"
   ]
  },
  {
   "cell_type": "code",
   "execution_count": 3,
   "metadata": {},
   "outputs": [],
   "source": [
    "soup = Soup(html)"
   ]
  },
  {
   "cell_type": "code",
   "execution_count": 4,
   "metadata": {},
   "outputs": [],
   "source": [
    "table = soup.find('table', {'id': 'main_table_countries_today'})"
   ]
  },
  {
   "cell_type": "code",
   "execution_count": null,
   "metadata": {},
   "outputs": [],
   "source": [
    "str(table)[:100]"
   ]
  },
  {
   "cell_type": "code",
   "execution_count": 5,
   "metadata": {},
   "outputs": [],
   "source": [
    "trs = table.find('tbody', mode='first').find('tr')"
   ]
  },
  {
   "cell_type": "code",
   "execution_count": 6,
   "metadata": {},
   "outputs": [
    {
     "data": {
      "text/plain": [
       "[<tr style=\"\">\n",
       "                                 <td style=\"font-weight: bold; font-size:15px; text-align:left;\"><a class=\"mt_a\" href=\"country/china/\">China</a></td>\n",
       "                                 <td style=\"font-weight: bold; text-align:right\">80,928</td>\n",
       "                                                                 <td style=\"font-weight: bold; text-align:right;background-color:#FFEEAA;\">+34</td>\n",
       "                                 <td style=\"font-weight: bold; text-align:right;\">3,245                                </td>\n",
       " \n",
       "                                                                 <td style=\"font-weight: bold; text-align:right;background-color:red; color:white\">+8</td>\n",
       "                                 <td style=\"font-weight: bold; text-align:right\">70,420</td>\n",
       " \n",
       "                                                                                                 <td style=\"text-align:right;font-weight:bold;\">7,263</td>\n",
       "                                 <td style=\"font-weight: bold; text-align:right\">2,274</td>\n",
       "                                 <td style=\"font-weight: bold; text-align:right\">56</td>\n",
       "                             </tr>,\n",
       " <tr style=\"\">\n",
       "                                 <td style=\"font-weight: bold; font-size:15px; text-align:left;\"><a class=\"mt_a\" href=\"country/italy/\">Italy</a></td>\n",
       "                                 <td style=\"font-weight: bold; text-align:right\">35,713</td>\n",
       "                                                                 <td style=\"font-weight: bold; text-align:right;\"></td>\n",
       "                                 <td style=\"font-weight: bold; text-align:right;\">2,978                                </td>\n",
       " \n",
       "                                                                 <td style=\"font-weight: bold; text-align:right;\"></td>\n",
       "                                 <td style=\"font-weight: bold; text-align:right\">4,025</td>\n",
       " \n",
       "                                                                                                 <td style=\"text-align:right;font-weight:bold;\">28,710</td>\n",
       "                                 <td style=\"font-weight: bold; text-align:right\">2,257</td>\n",
       "                                 <td style=\"font-weight: bold; text-align:right\">591</td>\n",
       "                             </tr>]"
      ]
     },
     "execution_count": 6,
     "metadata": {},
     "output_type": "execute_result"
    }
   ],
   "source": [
    "trs[:2]"
   ]
  },
  {
   "cell_type": "code",
   "execution_count": 7,
   "metadata": {},
   "outputs": [],
   "source": [
    "tr = trs[0]"
   ]
  },
  {
   "cell_type": "code",
   "execution_count": 8,
   "metadata": {},
   "outputs": [
    {
     "data": {
      "text/plain": [
       "'China'"
      ]
     },
     "execution_count": 8,
     "metadata": {},
     "output_type": "execute_result"
    }
   ],
   "source": [
    "tr.find('td', mode='first').text"
   ]
  },
  {
   "cell_type": "code",
   "execution_count": 9,
   "metadata": {},
   "outputs": [
    {
     "data": {
      "text/plain": [
       "'80,928'"
      ]
     },
     "execution_count": 9,
     "metadata": {},
     "output_type": "execute_result"
    }
   ],
   "source": [
    "tr.find('td')[1].text"
   ]
  },
  {
   "cell_type": "code",
   "execution_count": 10,
   "metadata": {},
   "outputs": [],
   "source": [
    "def parse_tr(tr):\n",
    "    country = tr.find('td', mode='first').text\n",
    "    total = tr.find('td')[1].text\n",
    "    total = float(total.replace(',', ''))\n",
    "    return country, total"
   ]
  },
  {
   "cell_type": "code",
   "execution_count": 11,
   "metadata": {},
   "outputs": [],
   "source": [
    "totals = [parse_tr(tr) for tr in trs]"
   ]
  },
  {
   "cell_type": "code",
   "execution_count": 12,
   "metadata": {},
   "outputs": [
    {
     "data": {
      "text/plain": [
       "[('China', 80928.0),\n",
       " ('Italy', 35713.0),\n",
       " ('Iran', 18407.0),\n",
       " ('Spain', 17147.0),\n",
       " ('Germany', 13632.0),\n",
       " ('USA', 9486.0),\n",
       " ('France', 9134.0),\n",
       " ('S. Korea', 8565.0),\n",
       " ('Switzerland', 3939.0),\n",
       " ('UK', 2626.0)]"
      ]
     },
     "execution_count": 12,
     "metadata": {},
     "output_type": "execute_result"
    }
   ],
   "source": [
    "totals[:10]"
   ]
  },
  {
   "cell_type": "code",
   "execution_count": 13,
   "metadata": {},
   "outputs": [],
   "source": [
    "url = 'https://en.wikipedia.org/wiki/List_of_countries_by_total_health_expenditure_per_capita'\n",
    "html = get(url)"
   ]
  },
  {
   "cell_type": "code",
   "execution_count": 14,
   "metadata": {},
   "outputs": [],
   "source": [
    "soup = Soup(html)"
   ]
  },
  {
   "cell_type": "code",
   "execution_count": 15,
   "metadata": {},
   "outputs": [],
   "source": [
    "import pandas as pd"
   ]
  },
  {
   "cell_type": "code",
   "execution_count": 16,
   "metadata": {},
   "outputs": [],
   "source": [
    "table = soup.find('table', {'id': 'WHO'})[0]"
   ]
  },
  {
   "cell_type": "code",
   "execution_count": 17,
   "metadata": {},
   "outputs": [],
   "source": [
    "who = pd.read_html(str(table))[0]"
   ]
  },
  {
   "cell_type": "code",
   "execution_count": 18,
   "metadata": {},
   "outputs": [],
   "source": [
    "who = who.rename(columns={'Countries': 'country', '2015': 'health_expenditure'})\n",
    "who = who[['country', 'health_expenditure']]"
   ]
  },
  {
   "cell_type": "code",
   "execution_count": 19,
   "metadata": {},
   "outputs": [],
   "source": [
    "totals = pd.DataFrame(totals, columns=['country', 'cases'])"
   ]
  },
  {
   "cell_type": "code",
   "execution_count": 20,
   "metadata": {},
   "outputs": [],
   "source": [
    "df = pd.merge(totals, who, on='country', how='left')"
   ]
  },
  {
   "cell_type": "code",
   "execution_count": 23,
   "metadata": {},
   "outputs": [
    {
     "data": {
      "text/html": [
       "<div>\n",
       "<style scoped>\n",
       "    .dataframe tbody tr th:only-of-type {\n",
       "        vertical-align: middle;\n",
       "    }\n",
       "\n",
       "    .dataframe tbody tr th {\n",
       "        vertical-align: top;\n",
       "    }\n",
       "\n",
       "    .dataframe thead th {\n",
       "        text-align: right;\n",
       "    }\n",
       "</style>\n",
       "<table border=\"1\" class=\"dataframe\">\n",
       "  <thead>\n",
       "    <tr style=\"text-align: right;\">\n",
       "      <th></th>\n",
       "      <th>country</th>\n",
       "      <th>cases</th>\n",
       "      <th>health_expenditure</th>\n",
       "    </tr>\n",
       "  </thead>\n",
       "  <tbody>\n",
       "    <tr>\n",
       "      <th>0</th>\n",
       "      <td>China</td>\n",
       "      <td>80928.0</td>\n",
       "      <td>426.0</td>\n",
       "    </tr>\n",
       "    <tr>\n",
       "      <th>1</th>\n",
       "      <td>Italy</td>\n",
       "      <td>35713.0</td>\n",
       "      <td>2700.0</td>\n",
       "    </tr>\n",
       "    <tr>\n",
       "      <th>2</th>\n",
       "      <td>Iran</td>\n",
       "      <td>18407.0</td>\n",
       "      <td>NaN</td>\n",
       "    </tr>\n",
       "    <tr>\n",
       "      <th>3</th>\n",
       "      <td>Spain</td>\n",
       "      <td>17147.0</td>\n",
       "      <td>2354.0</td>\n",
       "    </tr>\n",
       "    <tr>\n",
       "      <th>4</th>\n",
       "      <td>Germany</td>\n",
       "      <td>13632.0</td>\n",
       "      <td>4592.0</td>\n",
       "    </tr>\n",
       "    <tr>\n",
       "      <th>...</th>\n",
       "      <td>...</td>\n",
       "      <td>...</td>\n",
       "      <td>...</td>\n",
       "    </tr>\n",
       "    <tr>\n",
       "      <th>172</th>\n",
       "      <td>Sint Maarten</td>\n",
       "      <td>1.0</td>\n",
       "      <td>NaN</td>\n",
       "    </tr>\n",
       "    <tr>\n",
       "      <th>173</th>\n",
       "      <td>Somalia</td>\n",
       "      <td>1.0</td>\n",
       "      <td>NaN</td>\n",
       "    </tr>\n",
       "    <tr>\n",
       "      <th>174</th>\n",
       "      <td>Suriname</td>\n",
       "      <td>1.0</td>\n",
       "      <td>577.0</td>\n",
       "    </tr>\n",
       "    <tr>\n",
       "      <th>175</th>\n",
       "      <td>Eswatini</td>\n",
       "      <td>1.0</td>\n",
       "      <td>NaN</td>\n",
       "    </tr>\n",
       "    <tr>\n",
       "      <th>176</th>\n",
       "      <td>Togo</td>\n",
       "      <td>1.0</td>\n",
       "      <td>37.0</td>\n",
       "    </tr>\n",
       "  </tbody>\n",
       "</table>\n",
       "<p>177 rows × 3 columns</p>\n",
       "</div>"
      ],
      "text/plain": [
       "          country    cases  health_expenditure\n",
       "0           China  80928.0               426.0\n",
       "1           Italy  35713.0              2700.0\n",
       "2            Iran  18407.0                 NaN\n",
       "3           Spain  17147.0              2354.0\n",
       "4         Germany  13632.0              4592.0\n",
       "..            ...      ...                 ...\n",
       "172  Sint Maarten      1.0                 NaN\n",
       "173       Somalia      1.0                 NaN\n",
       "174      Suriname      1.0               577.0\n",
       "175      Eswatini      1.0                 NaN\n",
       "176          Togo      1.0                37.0\n",
       "\n",
       "[177 rows x 3 columns]"
      ]
     },
     "execution_count": 23,
     "metadata": {},
     "output_type": "execute_result"
    }
   ],
   "source": [
    "df"
   ]
  },
  {
   "cell_type": "markdown",
   "metadata": {},
   "source": [
    "### Saving results"
   ]
  },
  {
   "cell_type": "code",
   "execution_count": 24,
   "metadata": {},
   "outputs": [],
   "source": [
    "df.to_csv('../data/corona.csv', index=False)"
   ]
  },
  {
   "cell_type": "code",
   "execution_count": 25,
   "metadata": {},
   "outputs": [
    {
     "data": {
      "text/html": [
       "<div>\n",
       "<style scoped>\n",
       "    .dataframe tbody tr th:only-of-type {\n",
       "        vertical-align: middle;\n",
       "    }\n",
       "\n",
       "    .dataframe tbody tr th {\n",
       "        vertical-align: top;\n",
       "    }\n",
       "\n",
       "    .dataframe thead th {\n",
       "        text-align: right;\n",
       "    }\n",
       "</style>\n",
       "<table border=\"1\" class=\"dataframe\">\n",
       "  <thead>\n",
       "    <tr style=\"text-align: right;\">\n",
       "      <th></th>\n",
       "      <th>country</th>\n",
       "      <th>cases</th>\n",
       "      <th>health_expenditure</th>\n",
       "    </tr>\n",
       "  </thead>\n",
       "  <tbody>\n",
       "    <tr>\n",
       "      <th>0</th>\n",
       "      <td>China</td>\n",
       "      <td>80928.0</td>\n",
       "      <td>426.0</td>\n",
       "    </tr>\n",
       "    <tr>\n",
       "      <th>1</th>\n",
       "      <td>Italy</td>\n",
       "      <td>35713.0</td>\n",
       "      <td>2700.0</td>\n",
       "    </tr>\n",
       "    <tr>\n",
       "      <th>2</th>\n",
       "      <td>Iran</td>\n",
       "      <td>18407.0</td>\n",
       "      <td>NaN</td>\n",
       "    </tr>\n",
       "    <tr>\n",
       "      <th>3</th>\n",
       "      <td>Spain</td>\n",
       "      <td>17147.0</td>\n",
       "      <td>2354.0</td>\n",
       "    </tr>\n",
       "    <tr>\n",
       "      <th>4</th>\n",
       "      <td>Germany</td>\n",
       "      <td>13632.0</td>\n",
       "      <td>4592.0</td>\n",
       "    </tr>\n",
       "  </tbody>\n",
       "</table>\n",
       "</div>"
      ],
      "text/plain": [
       "   country    cases  health_expenditure\n",
       "0    China  80928.0               426.0\n",
       "1    Italy  35713.0              2700.0\n",
       "2     Iran  18407.0                 NaN\n",
       "3    Spain  17147.0              2354.0\n",
       "4  Germany  13632.0              4592.0"
      ]
     },
     "execution_count": 25,
     "metadata": {},
     "output_type": "execute_result"
    }
   ],
   "source": [
    "df.head()"
   ]
  },
  {
   "cell_type": "code",
   "execution_count": 26,
   "metadata": {},
   "outputs": [],
   "source": [
    "df['date_fetched'] = pd.Timestamp('today')"
   ]
  },
  {
   "cell_type": "code",
   "execution_count": 27,
   "metadata": {},
   "outputs": [
    {
     "data": {
      "text/html": [
       "<div>\n",
       "<style scoped>\n",
       "    .dataframe tbody tr th:only-of-type {\n",
       "        vertical-align: middle;\n",
       "    }\n",
       "\n",
       "    .dataframe tbody tr th {\n",
       "        vertical-align: top;\n",
       "    }\n",
       "\n",
       "    .dataframe thead th {\n",
       "        text-align: right;\n",
       "    }\n",
       "</style>\n",
       "<table border=\"1\" class=\"dataframe\">\n",
       "  <thead>\n",
       "    <tr style=\"text-align: right;\">\n",
       "      <th></th>\n",
       "      <th>country</th>\n",
       "      <th>cases</th>\n",
       "      <th>health_expenditure</th>\n",
       "      <th>date_fetched</th>\n",
       "    </tr>\n",
       "  </thead>\n",
       "  <tbody>\n",
       "    <tr>\n",
       "      <th>0</th>\n",
       "      <td>China</td>\n",
       "      <td>80928.0</td>\n",
       "      <td>426.0</td>\n",
       "      <td>2020-03-19 10:15:17.678212</td>\n",
       "    </tr>\n",
       "    <tr>\n",
       "      <th>1</th>\n",
       "      <td>Italy</td>\n",
       "      <td>35713.0</td>\n",
       "      <td>2700.0</td>\n",
       "      <td>2020-03-19 10:15:17.678212</td>\n",
       "    </tr>\n",
       "    <tr>\n",
       "      <th>2</th>\n",
       "      <td>Iran</td>\n",
       "      <td>18407.0</td>\n",
       "      <td>NaN</td>\n",
       "      <td>2020-03-19 10:15:17.678212</td>\n",
       "    </tr>\n",
       "    <tr>\n",
       "      <th>3</th>\n",
       "      <td>Spain</td>\n",
       "      <td>17147.0</td>\n",
       "      <td>2354.0</td>\n",
       "      <td>2020-03-19 10:15:17.678212</td>\n",
       "    </tr>\n",
       "    <tr>\n",
       "      <th>4</th>\n",
       "      <td>Germany</td>\n",
       "      <td>13632.0</td>\n",
       "      <td>4592.0</td>\n",
       "      <td>2020-03-19 10:15:17.678212</td>\n",
       "    </tr>\n",
       "  </tbody>\n",
       "</table>\n",
       "</div>"
      ],
      "text/plain": [
       "   country    cases  health_expenditure               date_fetched\n",
       "0    China  80928.0               426.0 2020-03-19 10:15:17.678212\n",
       "1    Italy  35713.0              2700.0 2020-03-19 10:15:17.678212\n",
       "2     Iran  18407.0                 NaN 2020-03-19 10:15:17.678212\n",
       "3    Spain  17147.0              2354.0 2020-03-19 10:15:17.678212\n",
       "4  Germany  13632.0              4592.0 2020-03-19 10:15:17.678212"
      ]
     },
     "execution_count": 27,
     "metadata": {},
     "output_type": "execute_result"
    }
   ],
   "source": [
    "df.head()"
   ]
  },
  {
   "cell_type": "code",
   "execution_count": 28,
   "metadata": {},
   "outputs": [],
   "source": [
    "import sqlite3\n",
    "\n",
    "con = sqlite3.connect('../data/corona.db')\n",
    "\n",
    "df.to_sql('corona', con, index=False, if_exists='append')"
   ]
  },
  {
   "cell_type": "code",
   "execution_count": 29,
   "metadata": {},
   "outputs": [
    {
     "data": {
      "text/html": [
       "<div>\n",
       "<style scoped>\n",
       "    .dataframe tbody tr th:only-of-type {\n",
       "        vertical-align: middle;\n",
       "    }\n",
       "\n",
       "    .dataframe tbody tr th {\n",
       "        vertical-align: top;\n",
       "    }\n",
       "\n",
       "    .dataframe thead th {\n",
       "        text-align: right;\n",
       "    }\n",
       "</style>\n",
       "<table border=\"1\" class=\"dataframe\">\n",
       "  <thead>\n",
       "    <tr style=\"text-align: right;\">\n",
       "      <th></th>\n",
       "      <th>country</th>\n",
       "      <th>cases</th>\n",
       "      <th>health_expenditure</th>\n",
       "      <th>date_fetched</th>\n",
       "    </tr>\n",
       "  </thead>\n",
       "  <tbody>\n",
       "    <tr>\n",
       "      <th>0</th>\n",
       "      <td>Switzerland</td>\n",
       "      <td>3939.0</td>\n",
       "      <td>9818.0</td>\n",
       "      <td>2020-03-19 10:15:17.678212</td>\n",
       "    </tr>\n",
       "    <tr>\n",
       "      <th>1</th>\n",
       "      <td>Norway</td>\n",
       "      <td>1706.0</td>\n",
       "      <td>7464.0</td>\n",
       "      <td>2020-03-19 10:15:17.678212</td>\n",
       "    </tr>\n",
       "    <tr>\n",
       "      <th>2</th>\n",
       "      <td>Sweden</td>\n",
       "      <td>1423.0</td>\n",
       "      <td>5600.0</td>\n",
       "      <td>2020-03-19 10:15:17.678212</td>\n",
       "    </tr>\n",
       "    <tr>\n",
       "      <th>3</th>\n",
       "      <td>Denmark</td>\n",
       "      <td>1132.0</td>\n",
       "      <td>5497.0</td>\n",
       "      <td>2020-03-19 10:15:17.678212</td>\n",
       "    </tr>\n",
       "    <tr>\n",
       "      <th>4</th>\n",
       "      <td>Netherlands</td>\n",
       "      <td>2460.0</td>\n",
       "      <td>4746.0</td>\n",
       "      <td>2020-03-19 10:15:17.678212</td>\n",
       "    </tr>\n",
       "    <tr>\n",
       "      <th>5</th>\n",
       "      <td>Germany</td>\n",
       "      <td>13632.0</td>\n",
       "      <td>4592.0</td>\n",
       "      <td>2020-03-19 10:15:17.678212</td>\n",
       "    </tr>\n",
       "    <tr>\n",
       "      <th>6</th>\n",
       "      <td>Austria</td>\n",
       "      <td>1843.0</td>\n",
       "      <td>4536.0</td>\n",
       "      <td>2020-03-19 10:15:17.678212</td>\n",
       "    </tr>\n",
       "    <tr>\n",
       "      <th>7</th>\n",
       "      <td>Belgium</td>\n",
       "      <td>1795.0</td>\n",
       "      <td>4228.0</td>\n",
       "      <td>2020-03-19 10:15:17.678212</td>\n",
       "    </tr>\n",
       "    <tr>\n",
       "      <th>8</th>\n",
       "      <td>France</td>\n",
       "      <td>9134.0</td>\n",
       "      <td>4026.0</td>\n",
       "      <td>2020-03-19 10:15:17.678212</td>\n",
       "    </tr>\n",
       "    <tr>\n",
       "      <th>9</th>\n",
       "      <td>Italy</td>\n",
       "      <td>35713.0</td>\n",
       "      <td>2700.0</td>\n",
       "      <td>2020-03-19 10:15:17.678212</td>\n",
       "    </tr>\n",
       "    <tr>\n",
       "      <th>10</th>\n",
       "      <td>Spain</td>\n",
       "      <td>17147.0</td>\n",
       "      <td>2354.0</td>\n",
       "      <td>2020-03-19 10:15:17.678212</td>\n",
       "    </tr>\n",
       "    <tr>\n",
       "      <th>11</th>\n",
       "      <td>China</td>\n",
       "      <td>80928.0</td>\n",
       "      <td>426.0</td>\n",
       "      <td>2020-03-19 10:15:17.678212</td>\n",
       "    </tr>\n",
       "    <tr>\n",
       "      <th>12</th>\n",
       "      <td>Iran</td>\n",
       "      <td>18407.0</td>\n",
       "      <td>NaN</td>\n",
       "      <td>2020-03-19 10:15:17.678212</td>\n",
       "    </tr>\n",
       "    <tr>\n",
       "      <th>13</th>\n",
       "      <td>USA</td>\n",
       "      <td>9486.0</td>\n",
       "      <td>NaN</td>\n",
       "      <td>2020-03-19 10:15:17.678212</td>\n",
       "    </tr>\n",
       "    <tr>\n",
       "      <th>14</th>\n",
       "      <td>S. Korea</td>\n",
       "      <td>8565.0</td>\n",
       "      <td>NaN</td>\n",
       "      <td>2020-03-19 10:15:17.678212</td>\n",
       "    </tr>\n",
       "    <tr>\n",
       "      <th>15</th>\n",
       "      <td>UK</td>\n",
       "      <td>2626.0</td>\n",
       "      <td>NaN</td>\n",
       "      <td>2020-03-19 10:15:17.678212</td>\n",
       "    </tr>\n",
       "  </tbody>\n",
       "</table>\n",
       "</div>"
      ],
      "text/plain": [
       "        country    cases  health_expenditure                date_fetched\n",
       "0   Switzerland   3939.0              9818.0  2020-03-19 10:15:17.678212\n",
       "1        Norway   1706.0              7464.0  2020-03-19 10:15:17.678212\n",
       "2        Sweden   1423.0              5600.0  2020-03-19 10:15:17.678212\n",
       "3       Denmark   1132.0              5497.0  2020-03-19 10:15:17.678212\n",
       "4   Netherlands   2460.0              4746.0  2020-03-19 10:15:17.678212\n",
       "5       Germany  13632.0              4592.0  2020-03-19 10:15:17.678212\n",
       "6       Austria   1843.0              4536.0  2020-03-19 10:15:17.678212\n",
       "7       Belgium   1795.0              4228.0  2020-03-19 10:15:17.678212\n",
       "8        France   9134.0              4026.0  2020-03-19 10:15:17.678212\n",
       "9         Italy  35713.0              2700.0  2020-03-19 10:15:17.678212\n",
       "10        Spain  17147.0              2354.0  2020-03-19 10:15:17.678212\n",
       "11        China  80928.0               426.0  2020-03-19 10:15:17.678212\n",
       "12         Iran  18407.0                 NaN  2020-03-19 10:15:17.678212\n",
       "13          USA   9486.0                 NaN  2020-03-19 10:15:17.678212\n",
       "14     S. Korea   8565.0                 NaN  2020-03-19 10:15:17.678212\n",
       "15           UK   2626.0                 NaN  2020-03-19 10:15:17.678212"
      ]
     },
     "execution_count": 29,
     "metadata": {},
     "output_type": "execute_result"
    }
   ],
   "source": [
    "pd.read_sql('''\n",
    "    select \n",
    "    * \n",
    "    from corona\n",
    "    where cases > 1000\n",
    "    order by health_expenditure desc\n",
    "''', con)"
   ]
  }
 ],
 "metadata": {
  "kernelspec": {
   "display_name": "Python 3",
   "language": "python",
   "name": "python3"
  },
  "language_info": {
   "codemirror_mode": {
    "name": "ipython",
    "version": 3
   },
   "file_extension": ".py",
   "mimetype": "text/x-python",
   "name": "python",
   "nbconvert_exporter": "python",
   "pygments_lexer": "ipython3",
   "version": "3.7.6"
  }
 },
 "nbformat": 4,
 "nbformat_minor": 2
}
