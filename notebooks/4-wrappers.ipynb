{
 "cells": [
  {
   "cell_type": "markdown",
   "metadata": {},
   "source": [
    "#### [Urban Dictionary](https://github.com/novel/py-urbandict)\n",
    "\n",
    "`pip install urbandict`"
   ]
  },
  {
   "cell_type": "code",
   "execution_count": 1,
   "metadata": {},
   "outputs": [
    {
     "data": {
      "text/plain": [
       "[{'word': 'elbump',\n",
       "  'def': 'noun - A bumping',\n",
       "  'example': 'Steve: Rob',\n",
       "  'category': 'unknown'},\n",
       " {'word': 'elbump',\n",
       "  'def': 'Something that started off for bros to do in schools when their hands were full, but after governments across the world urged people not to shake hands in March 2020 due to the coronavirus',\n",
       "  'example': 'Person 1: Shake',\n",
       "  'category': 'unknown'},\n",
       " {'word': 'Elbump',\n",
       "  'def': 'When you bump',\n",
       "  'example': 'Friend',\n",
       "  'category': 'unknown'}]"
      ]
     },
     "execution_count": 1,
     "metadata": {},
     "output_type": "execute_result"
    }
   ],
   "source": [
    "import urbandict\n",
    "\n",
    "urbandict.define('elbump')[:3]"
   ]
  },
  {
   "cell_type": "markdown",
   "metadata": {},
   "source": [
    "#### [Wikipedia](https://github.com/martin-majlis/Wikipedia-API/)\n",
    "`pip install wikipedia-api`"
   ]
  },
  {
   "cell_type": "code",
   "execution_count": 2,
   "metadata": {},
   "outputs": [],
   "source": [
    "from wikipediaapi import Wikipedia\n",
    "wiki = Wikipedia('en')"
   ]
  },
  {
   "cell_type": "code",
   "execution_count": 3,
   "metadata": {},
   "outputs": [
    {
     "data": {
      "text/plain": [
       "True"
      ]
     },
     "execution_count": 3,
     "metadata": {},
     "output_type": "execute_result"
    }
   ],
   "source": [
    "page = wiki.page('Coronavirus')\n",
    "page.exists()"
   ]
  },
  {
   "cell_type": "code",
   "execution_count": 4,
   "metadata": {},
   "outputs": [
    {
     "data": {
      "text/plain": [
       "'Coronaviruses are a group of related viruses that cause diseases in mammals and birds. In humans, coronaviruses cause respiratory tract infections that can be mild, such as some cases of the common cold (among other possible causes, predominantly rhinoviruses), and others that can be lethal, such as SARS, MERS, and COVID-19. Symptoms in other species vary: in chickens, they cause an upper respiratory tract disease, while in cows and pigs they cause diarrhea. There are yet to be vaccines or antiv'"
      ]
     },
     "execution_count": 4,
     "metadata": {},
     "output_type": "execute_result"
    }
   ],
   "source": [
    "page.text[:500]"
   ]
  },
  {
   "cell_type": "markdown",
   "metadata": {},
   "source": [
    "#### [Goodreads Quotes](https://github.com/maxhumber/quote)\n",
    "`pip install quote`"
   ]
  },
  {
   "cell_type": "code",
   "execution_count": 5,
   "metadata": {},
   "outputs": [
    {
     "data": {
      "text/plain": [
       "[{'author': 'Jared Diamond',\n",
       "  'book': 'Guns, Germs and Steel: The Fates of Human Societies',\n",
       "  'quote': \"History followed different courses for different peoples because of differences among peoples' environments, not because of biological differences among peoples themselves\"},\n",
       " {'author': 'Jared Diamond',\n",
       "  'book': 'Guns, Germs and Steel: The Fates of Human Societies',\n",
       "  'quote': 'In short, Europe’s colonization of Africa had nothing to do with differences between European and African peoples themselves, as white racists assume. Rather, it was due to accidents of geography and biogeography—in particular, to the continents’ different areas, axes, and suites of wild plant and animal species. That is, the different historical trajectories of Africa and Europe stem ultimately from differences in real estate.'},\n",
       " {'author': 'Jared Diamond',\n",
       "  'book': 'Guns, Germs, and Steel: The Fates of Human Societies',\n",
       "  'quote': 'Much of human history has consisted of unequal conflicts between the haves and the have-nots.'},\n",
       " {'author': 'Jared Diamond',\n",
       "  'book': 'Guns, Germs, and Steel: The Fates of Human Societies',\n",
       "  'quote': '[W]hat makes patriotic and religious fanatics such dangerous opponents is not the deaths of the fanatics themselves, but their willingness to accept the deaths of a fraction of their number in order to annihilate or crush their infidel enemy.'},\n",
       " {'author': 'Jared Diamond',\n",
       "  'book': 'Guns, Germs, and Steel: The Fates of Human Societies',\n",
       "  'quote': 'With the rise of chiefdoms around 7,500 years ago, people had to learn, for the first time in history, how to encounter strangers regularly without attempting to kill them.'}]"
      ]
     },
     "execution_count": 5,
     "metadata": {},
     "output_type": "execute_result"
    }
   ],
   "source": [
    "from quote import quote \n",
    "\n",
    "quote('Guns, Germs, and Steel', limit=5)"
   ]
  }
 ],
 "metadata": {
  "kernelspec": {
   "display_name": "Python 3",
   "language": "python",
   "name": "python3"
  },
  "language_info": {
   "codemirror_mode": {
    "name": "ipython",
    "version": 3
   },
   "file_extension": ".py",
   "mimetype": "text/x-python",
   "name": "python",
   "nbconvert_exporter": "python",
   "pygments_lexer": "ipython3",
   "version": "3.7.6"
  }
 },
 "nbformat": 4,
 "nbformat_minor": 2
}
