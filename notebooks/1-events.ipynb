{
 "cells": [
  {
   "cell_type": "code",
   "execution_count": 1,
   "metadata": {},
   "outputs": [],
   "source": [
    "from gazpacho import get, Soup"
   ]
  },
  {
   "cell_type": "code",
   "execution_count": 2,
   "metadata": {},
   "outputs": [],
   "source": [
    "base = 'https://www.python.org'\n",
    "url = base + '/events/'"
   ]
  },
  {
   "cell_type": "code",
   "execution_count": 3,
   "metadata": {},
   "outputs": [],
   "source": [
    "html = get(url)"
   ]
  },
  {
   "cell_type": "code",
   "execution_count": 4,
   "metadata": {},
   "outputs": [],
   "source": [
    "soup = Soup(html)"
   ]
  },
  {
   "cell_type": "code",
   "execution_count": 5,
   "metadata": {},
   "outputs": [],
   "source": [
    "ul = soup.find('ul', {'class': 'list-recent-events menu'})"
   ]
  },
  {
   "cell_type": "code",
   "execution_count": 6,
   "metadata": {},
   "outputs": [
    {
     "data": {
      "text/plain": [
       "22"
      ]
     },
     "execution_count": 6,
     "metadata": {},
     "output_type": "execute_result"
    }
   ],
   "source": [
    "lis = ul.find('li')\n",
    "len(lis)"
   ]
  },
  {
   "cell_type": "code",
   "execution_count": 7,
   "metadata": {},
   "outputs": [],
   "source": [
    "li = lis[0]"
   ]
  },
  {
   "cell_type": "code",
   "execution_count": 8,
   "metadata": {},
   "outputs": [
    {
     "name": "stdout",
     "output_type": "stream",
     "text": [
      "<li>\n",
      "                        <h3 class=\"event-title\"><a href=\"/events/python-events/951/\">PyCon JP 2020</a></h3>\n",
      "                        <p>\n",
      "                            \n",
      "                            \n",
      "<time datetime=\"2020-08-28T00:00:00+00:00\">28 Aug. – 29 Aug. <span class=\"say-no-more\"> 2020</span></time>\n",
      "\n",
      "                            \n",
      "\n",
      "                            \n",
      "                            <span class=\"event-location\">Tokyo, Japan</span>\n",
      "                            \n",
      "                        </p>\n",
      "                    </li>\n"
     ]
    }
   ],
   "source": [
    "print(li)"
   ]
  },
  {
   "cell_type": "code",
   "execution_count": 9,
   "metadata": {},
   "outputs": [
    {
     "data": {
      "text/plain": [
       "'PyCon JP 2020'"
      ]
     },
     "execution_count": 9,
     "metadata": {},
     "output_type": "execute_result"
    }
   ],
   "source": [
    "li.find('a').text"
   ]
  },
  {
   "cell_type": "code",
   "execution_count": 10,
   "metadata": {},
   "outputs": [
    {
     "data": {
      "text/plain": [
       "'/events/python-events/951/'"
      ]
     },
     "execution_count": 10,
     "metadata": {},
     "output_type": "execute_result"
    }
   ],
   "source": [
    "li.find('a').attrs['href']"
   ]
  },
  {
   "cell_type": "code",
   "execution_count": 11,
   "metadata": {},
   "outputs": [
    {
     "data": {
      "text/plain": [
       "'2020-08-28T00:00:00+00:00'"
      ]
     },
     "execution_count": 11,
     "metadata": {},
     "output_type": "execute_result"
    }
   ],
   "source": [
    "li.find('time').attrs['datetime']"
   ]
  },
  {
   "cell_type": "code",
   "execution_count": 12,
   "metadata": {},
   "outputs": [],
   "source": [
    "def parse_li(li):\n",
    "    return {\n",
    "        'event': li.find('a').text,\n",
    "        'link': li.find('a').attrs['href'],\n",
    "        'start': li.find('time').attrs['datetime'],\n",
    "    }"
   ]
  },
  {
   "cell_type": "code",
   "execution_count": 13,
   "metadata": {},
   "outputs": [],
   "source": [
    "events = [parse_li(li) for li in lis]"
   ]
  },
  {
   "cell_type": "code",
   "execution_count": 14,
   "metadata": {},
   "outputs": [
    {
     "data": {
      "text/plain": [
       "[{'event': 'PyCon JP 2020',\n",
       "  'link': '/events/python-events/951/',\n",
       "  'start': '2020-08-28T00:00:00+00:00'},\n",
       " {'event': 'PyCon TW 2020',\n",
       "  'link': '/events/python-events/963/',\n",
       "  'start': '2020-09-05T00:00:00+00:00'},\n",
       " {'event': 'PyCon SK 2020',\n",
       "  'link': '/events/python-events/879/',\n",
       "  'start': '2020-09-11T00:00:00+00:00'},\n",
       " {'event': 'DjangoCon Europe 2020',\n",
       "  'link': '/events/python-events/891/',\n",
       "  'start': '2020-09-16T00:00:00+00:00'},\n",
       " {'event': 'PyCon APAC 2020',\n",
       "  'link': '/events/python-events/952/',\n",
       "  'start': '2020-09-19T00:00:00+00:00'},\n",
       " {'event': 'DragonPy 2020',\n",
       "  'link': '/events/python-events/910/',\n",
       "  'start': '2020-09-19T00:00:00+00:00'},\n",
       " {'event': 'Django Day Copenhagen',\n",
       "  'link': '/events/python-events/881/',\n",
       "  'start': '2020-09-25T00:00:00+00:00'},\n",
       " {'event': 'PyCon Turkey',\n",
       "  'link': '/events/python-events/888/',\n",
       "  'start': '2020-09-26T00:00:00+00:00'},\n",
       " {'event': 'Python Meeting Düsseldorf',\n",
       "  'link': '/events/python-user-group/911/',\n",
       "  'start': '2020-09-30T16:00:00+00:00'},\n",
       " {'event': 'PyCon India 2020',\n",
       "  'link': '/events/python-events/961/',\n",
       "  'start': '2020-10-02T00:00:00+00:00'},\n",
       " {'event': 'PyCon Estonia 20',\n",
       "  'link': '/events/python-events/972/',\n",
       "  'start': '2020-10-08T06:00:00+00:00'},\n",
       " {'event': 'PyConDE & PyData Berlin 2020',\n",
       "  'link': '/events/python-events/883/',\n",
       "  'start': '2020-10-14T00:00:00+00:00'},\n",
       " {'event': 'Swiss Python Summit',\n",
       "  'link': '/events/python-events/897/',\n",
       "  'start': '2020-10-23T00:00:00+00:00'},\n",
       " {'event': \"PyCC Meetup'19 (Python Cape Coast User Group)\",\n",
       "  'link': '/events/python-user-group/874/',\n",
       "  'start': '2020-10-26T08:00:00+00:00'},\n",
       " {'event': 'Python Brasil 2020',\n",
       "  'link': '/events/python-events/877/',\n",
       "  'start': '2020-10-28T00:00:00+00:00'},\n",
       " {'event': 'SciPy Japan 2020',\n",
       "  'link': '/events/python-events/973/',\n",
       "  'start': '2020-10-30T00:00:00+00:00'},\n",
       " {'event': 'PyData London 2020',\n",
       "  'link': '/events/python-events/954/',\n",
       "  'start': '2020-10-30T00:00:00+00:00'},\n",
       " {'event': 'PyCon Italia 2020',\n",
       "  'link': '/events/python-events/884/',\n",
       "  'start': '2020-11-05T00:00:00+00:00'},\n",
       " {'event': 'enterPy',\n",
       "  'link': '/events/python-user-group/903/',\n",
       "  'start': '2020-11-23T00:00:00+00:00'},\n",
       " {'event': 'PyCon US 2021',\n",
       "  'link': '/events/python-events/893/',\n",
       "  'start': '2021-05-12T00:00:00+00:00'},\n",
       " {'event': 'SciPy 2021',\n",
       "  'link': '/events/python-events/833/',\n",
       "  'start': '2021-07-12T00:00:00+00:00'},\n",
       " {'event': 'EuroPython 2021',\n",
       "  'link': '/events/python-events/964/',\n",
       "  'start': '2021-07-26T00:00:00+00:00'}]"
      ]
     },
     "execution_count": 14,
     "metadata": {},
     "output_type": "execute_result"
    }
   ],
   "source": [
    "events"
   ]
  },
  {
   "cell_type": "code",
   "execution_count": 15,
   "metadata": {},
   "outputs": [],
   "source": [
    "page = base + '/events/python-events/884/'"
   ]
  },
  {
   "cell_type": "code",
   "execution_count": 16,
   "metadata": {},
   "outputs": [],
   "source": [
    "soup = Soup(get(page))\n",
    "website = soup.find(\n",
    "    'div', {'class': 'event-description'}\n",
    ").find('a').attrs['href']"
   ]
  },
  {
   "cell_type": "code",
   "execution_count": 17,
   "metadata": {},
   "outputs": [],
   "source": [
    "def find_conf_website(link):\n",
    "    soup = Soup(get(link))\n",
    "    return soup.find(\n",
    "        'div', {'class': 'event-description'}\n",
    "    ).find('a').attrs['href']"
   ]
  },
  {
   "cell_type": "code",
   "execution_count": 18,
   "metadata": {},
   "outputs": [
    {
     "name": "stderr",
     "output_type": "stream",
     "text": [
      "100%|██████████| 22/22 [00:16<00:00,  1.32it/s]\n"
     ]
    }
   ],
   "source": [
    "import time\n",
    "import random\n",
    "from tqdm import tqdm\n",
    "from urllib.error import URLError\n",
    "\n",
    "websites = []\n",
    "for event in tqdm(events):\n",
    "    link = base + event['link']\n",
    "    website = find_conf_website(link)\n",
    "    websites.append(website)\n",
    "    time.sleep(random.uniform(1, 10) / 10)"
   ]
  },
  {
   "cell_type": "code",
   "execution_count": 19,
   "metadata": {},
   "outputs": [
    {
     "data": {
      "text/plain": [
       "['https://pycon.jp/2020',\n",
       " 'http://pycon.tw/',\n",
       " 'https://2020.pycon.sk/en/',\n",
       " 'https://2020.djangocon.eu/',\n",
       " 'https://pycon.my',\n",
       " 'https://dragonpy.com',\n",
       " 'https://djangoday.dk/',\n",
       " 'https://tr.pycon.org/',\n",
       " 'https://www.pyddf.de/',\n",
       " 'https://in.pycon.org/2020/',\n",
       " 'https://pycon.ee',\n",
       " 'https://de.pycon.org/',\n",
       " 'https://www.python-summit.ch/',\n",
       " 'http://https://www.eventbrite.com/e/python-cape-coast-community-meetup-19-tickets-71432639949/',\n",
       " \"https://2020.pythonbrasil.org.br/>Python Brasil 2020</a>\\n                    </div>\\n                </article>\\n                \\n                \\n                <!-- Next or Previous Events by date and location (Keep them in the sphere of this Event's location, or only sort by date?) -->\\n                <p class=\",\n",
       " 'https://www.scipyjapan.scipy.org',\n",
       " 'https://pydata.org/london2020',\n",
       " 'http://pycon.it/',\n",
       " 'https://www.enterpy.de/',\n",
       " 'https://us.pycon.org/2021/',\n",
       " 'https://www.scipy2021.scipy.org/',\n",
       " 'https://www.europython.eu/']"
      ]
     },
     "execution_count": 19,
     "metadata": {},
     "output_type": "execute_result"
    }
   ],
   "source": [
    "websites"
   ]
  },
  {
   "cell_type": "markdown",
   "metadata": {},
   "source": [
    "### Exercise \n",
    "\n",
    "Use Wikipedia to scrape the ages for: Bernie Sanders, Joe Biden, and Donald Trump"
   ]
  },
  {
   "cell_type": "code",
   "execution_count": null,
   "metadata": {},
   "outputs": [],
   "source": [
    "%load ../solutions/1-code.py"
   ]
  }
 ],
 "metadata": {
  "kernelspec": {
   "display_name": "Python 3",
   "language": "python",
   "name": "python3"
  },
  "language_info": {
   "codemirror_mode": {
    "name": "ipython",
    "version": 3
   },
   "file_extension": ".py",
   "mimetype": "text/x-python",
   "name": "python",
   "nbconvert_exporter": "python",
   "pygments_lexer": "ipython3",
   "version": "3.7.6"
  }
 },
 "nbformat": 4,
 "nbformat_minor": 2
}
